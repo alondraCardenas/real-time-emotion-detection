{
 "cells": [
  {
   "cell_type": "code",
   "execution_count": 1,
   "id": "69adb392-c0fb-4e9f-bf8a-a0119e4b7455",
   "metadata": {
    "tags": []
   },
   "outputs": [],
   "source": [
    "# import the opencv library\n",
    "import cv2\n",
    "\n",
    "# used to access local directory\n",
    "import os\n",
    "\n",
    "# define a video capture object\n",
    "vid = cv2.VideoCapture(0)\n",
    "\n",
    "# used to plot our images\n",
    "import matplotlib.pyplot as plt"
   ]
  },
  {
   "cell_type": "code",
   "execution_count": 2,
   "id": "729c53e1-7634-481c-879f-120c66f1ee7f",
   "metadata": {
    "tags": []
   },
   "outputs": [
    {
     "ename": "error",
     "evalue": "OpenCV(4.5.2) :-1: error: (-5:Bad argument) in function 'fit'\n> Overload resolution failed:\n>  - face_Facemark.fit() missing required argument 'faces' (pos 2)\n>  - face_Facemark.fit() missing required argument 'faces' (pos 2)\n",
     "output_type": "error",
     "traceback": [
      "\u001b[0;31m---------------------------------------------------------------------------\u001b[0m",
      "\u001b[0;31merror\u001b[0m                                     Traceback (most recent call last)",
      "\u001b[0;32m<ipython-input-2-0aa0f8bd806f>\u001b[0m in \u001b[0;36m<module>\u001b[0;34m\u001b[0m\n\u001b[1;32m     37\u001b[0m \u001b[0;34m\u001b[0m\u001b[0m\n\u001b[1;32m     38\u001b[0m     \u001b[0;31m# Detect landmarks on \"image_gray\"\u001b[0m\u001b[0;34m\u001b[0m\u001b[0;34m\u001b[0m\u001b[0;34m\u001b[0m\u001b[0m\n\u001b[0;32m---> 39\u001b[0;31m     \u001b[0m_\u001b[0m\u001b[0;34m,\u001b[0m \u001b[0mlandmarks\u001b[0m \u001b[0;34m=\u001b[0m \u001b[0mlandmark_detector\u001b[0m\u001b[0;34m.\u001b[0m\u001b[0mfit\u001b[0m\u001b[0;34m(\u001b[0m\u001b[0mgray\u001b[0m\u001b[0;34m)\u001b[0m\u001b[0;34m\u001b[0m\u001b[0;34m\u001b[0m\u001b[0m\n\u001b[0m\u001b[1;32m     40\u001b[0m \u001b[0;34m\u001b[0m\u001b[0m\n\u001b[1;32m     41\u001b[0m     \u001b[0;32mfor\u001b[0m \u001b[0mlandmark\u001b[0m \u001b[0;32min\u001b[0m \u001b[0mlandmarks\u001b[0m\u001b[0;34m:\u001b[0m\u001b[0;34m\u001b[0m\u001b[0;34m\u001b[0m\u001b[0m\n",
      "\u001b[0;31merror\u001b[0m: OpenCV(4.5.2) :-1: error: (-5:Bad argument) in function 'fit'\n> Overload resolution failed:\n>  - face_Facemark.fit() missing required argument 'faces' (pos 2)\n>  - face_Facemark.fit() missing required argument 'faces' (pos 2)\n"
     ]
    }
   ],
   "source": [
    "while(True):\n",
    "\n",
    "    # Capture the video frame\n",
    "    # by frame\n",
    "    ret, frame = vid.read()\n",
    "\n",
    "    # Display the resulting frame\n",
    "    cv2.imshow('frame', frame)\n",
    "    \n",
    "    # Convert frame to grayscale:\n",
    "    #frame = cv2.resize(frame,(0,0),fx = 0.5 , fy = 0.5)\n",
    "    gray = cv2.cvtColor(frame, cv2.COLOR_BGR2GRAY)\n",
    "    \n",
    "    # save face detection algorithm's url in haarcascade_url variable\n",
    "    haarcascade_url = \"https://raw.githubusercontent.com/opencv/opencv/master/data/haarcascades/haarcascade_frontalface_alt2.xml\"\n",
    "\n",
    "    # save face detection algorithm's name as haarcascade\n",
    "    haarcascade = \"haarcascade_frontalface_alt2.xml\"\n",
    "\n",
    "\n",
    "    # create an instance of the Face Detection Cascade Classifier\n",
    "    detector = cv2.CascadeClassifier(haarcascade)\n",
    "\n",
    "    # Detect faces using the haarcascade classifier on the \"grayscale image\"\n",
    "    faces = detector.detectMultiScale(gray)\n",
    "    \n",
    "            \n",
    "    # save facial landmark detection model's url in LBFmodel_url variable\n",
    "    LBFmodel_url = \"https://github.com/kurnianggoro/GSOC2017/raw/master/data/lbfmodel.yaml\"\n",
    "\n",
    "    # save facial landmark detection model's name as LBFmodel\n",
    "    LBFmodel = \"lbfmodel.yaml\"\n",
    "\n",
    "    # create an instance of the Facial landmark Detector with the model\n",
    "    landmark_detector  = cv2.face.createFacemarkLBF()\n",
    "    landmark_detector.loadModel(LBFmodel)\n",
    "\n",
    "    # Detect landmarks on \"image_gray\"\n",
    "    _, landmarks = landmark_detector.fit(gray)\n",
    "\n",
    "    for landmark in landmarks:\n",
    "        for x,y in landmark[0]:\n",
    "            # with white colour in BGR and thickness 1\n",
    "            cv2.circle((int(x), int(y)), 1, (255, 255, 255), 1)\n",
    "            \n",
    "\n",
    "    plt.imshow(frame)\n",
    "    cv2.imshow()\n",
    "    \n",
    "    # the 'q' button is set as the\n",
    "    # quitting button you may use any\n",
    "    # desired button of your choice\n",
    "    if cv2.waitKey(1) & 0xFF == ord('q'):\n",
    "        # After the loop release the cap object\n",
    "        vid.release()\n",
    "        # Destroy all the windows\n",
    "        cv2.destroyAllWindows()\n",
    "        cv2.waitKey(1)\n",
    "        break"
   ]
  },
  {
   "cell_type": "code",
   "execution_count": null,
   "id": "224eb713-f443-45ac-a9ca-bcfb3f2c6bef",
   "metadata": {},
   "outputs": [],
   "source": [
    "\n",
    "   \n",
    "    \n",
    "  "
   ]
  }
 ],
 "metadata": {
  "kernelspec": {
   "display_name": "Python 3",
   "language": "python",
   "name": "python3"
  },
  "language_info": {
   "codemirror_mode": {
    "name": "ipython",
    "version": 3
   },
   "file_extension": ".py",
   "mimetype": "text/x-python",
   "name": "python",
   "nbconvert_exporter": "python",
   "pygments_lexer": "ipython3",
   "version": "3.9.5"
  }
 },
 "nbformat": 4,
 "nbformat_minor": 5
}
